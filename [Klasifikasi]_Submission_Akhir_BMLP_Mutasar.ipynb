{
  "nbformat": 4,
  "nbformat_minor": 0,
  "metadata": {
    "colab": {
      "provenance": [],
      "include_colab_link": true
    },
    "kernelspec": {
      "name": "python3",
      "display_name": "Python 3"
    },
    "language_info": {
      "name": "python"
    }
  },
  "cells": [
    {
      "cell_type": "markdown",
      "metadata": {
        "id": "view-in-github",
        "colab_type": "text"
      },
      "source": [
        "<a href=\"https://colab.research.google.com/github/Mutasar/Membangun-Proyek-Machine-Learning/blob/main/%5BKlasifikasi%5D_Submission_Akhir_BMLP_Mutasar.ipynb\" target=\"_parent\"><img src=\"https://colab.research.google.com/assets/colab-badge.svg\" alt=\"Open In Colab\"/></a>"
      ]
    },
    {
      "cell_type": "markdown",
      "source": [
        "# **Penting**\n",
        "- Pastikan Anda melakukan Run All sebelum mengirimkan submission untuk memastikan seluruh cell berjalan dengan baik.\n",
        "- Hapus simbol pagar (#) jika Anda menerapkan kriteria tambahan\n",
        "- Biarkan simbol pagar (#) jika Anda tidak menerapkan kriteria tambahan"
      ],
      "metadata": {
        "id": "0tvAKGat01Sd"
      }
    },
    {
      "cell_type": "markdown",
      "source": [
        "# **1. Import Library**\n",
        "Pada tahap ini, Anda perlu mengimpor beberapa pustaka (library) Python yang dibutuhkan untuk analisis data dan pembangunan model machine learning."
      ],
      "metadata": {
        "id": "fKADPWcFKlj3"
      }
    },
    {
      "cell_type": "code",
      "source": [
        "#Type your code here\n",
        "\n",
        "import pandas as pd\n",
        "import seaborn as sns\n",
        "import matplotlib.pyplot as plt\n",
        "from sklearn.cluster import KMeans\n",
        "from yellowbrick.cluster import KElbowVisualizer\n",
        "import matplotlib.pyplot as plt\n",
        "import joblib\n",
        "from sklearn.metrics import silhouette_score\n",
        "from sklearn.decomposition import PCA\n",
        "from google.colab import files\n",
        "from sklearn.model_selection import train_test_split\n",
        "from sklearn.tree import DecisionTreeClassifier\n",
        "from sklearn.svm import SVC\n",
        "from sklearn.metrics import accuracy_score, precision_score, recall_score, f1_score\n",
        "from sklearn.model_selection import GridSearchCV\n",
        "from sklearn.tree import DecisionTreeClassifier\n",
        "\n"
      ],
      "metadata": {
        "id": "BlmvjLY9M4Yj"
      },
      "execution_count": 33,
      "outputs": []
    },
    {
      "cell_type": "markdown",
      "source": [
        "# **2. Memuat Dataset dari Hasil Clustering**\n",
        "Memuat dataset hasil clustering dari file CSV ke dalam variabel DataFrame."
      ],
      "metadata": {
        "id": "f3YIEnAFKrKL"
      }
    },
    {
      "cell_type": "code",
      "source": [
        "# Gunakan dataset hasil clustering yang memiliki fitur Target\n",
        "# Silakan gunakan dataset data_clustering jika tidak menerapkan Interpretasi Hasil Clustering [Advanced]\n",
        "# Silakan gunakan dataset data_clustering_inverse jika menerapkan Interpretasi Hasil Clustering [Advanced]\n",
        "\n",
        "url = 'https://drive.google.com/uc?export=download&id=1hkIGGCgf-OK4koM_IonYs36Dp0wDTXwF'\n",
        "df = pd.read_csv(url)\n",
        "\n"
      ],
      "metadata": {
        "id": "GHCGNTyrM5fS"
      },
      "execution_count": 16,
      "outputs": []
    },
    {
      "cell_type": "code",
      "source": [
        "# Tampilkan 5 baris pertama dengan function head.\n",
        "print(df.head())"
      ],
      "metadata": {
        "id": "bCsep0NZ0LUf",
        "outputId": "3a5aef87-35c4-45e7-97e6-9b1ce851b5f7",
        "colab": {
          "base_uri": "https://localhost:8080/"
        }
      },
      "execution_count": 17,
      "outputs": [
        {
          "output_type": "stream",
          "name": "stdout",
          "text": [
            "   TransactionAmount  CustomerAge  TransactionDuration  LoginAttempts  \\\n",
            "0          -0.970546     1.419862            -0.548393      -0.204629   \n",
            "1           0.268963     1.307715             0.307960      -0.204629   \n",
            "2          -0.586526    -1.439874            -0.905207      -0.204629   \n",
            "3          -0.387294    -1.047361            -1.347656      -0.204629   \n",
            "4          -0.703375    -1.495947             0.750409      -0.204629   \n",
            "\n",
            "   AccountBalance  TransactionID_TX000001  TransactionID_TX000002  \\\n",
            "0       -0.000315                    True                   False   \n",
            "1        2.218381                   False                    True   \n",
            "2       -1.024091                   False                   False   \n",
            "3        0.886694                   False                   False   \n",
            "4       -1.111505                   False                   False   \n",
            "\n",
            "   TransactionID_TX000003  TransactionID_TX000004  TransactionID_TX000005  \\\n",
            "0                   False                   False                   False   \n",
            "1                   False                   False                   False   \n",
            "2                    True                   False                   False   \n",
            "3                   False                    True                   False   \n",
            "4                   False                   False                   False   \n",
            "\n",
            "   ...  PreviousTransactionDate_2024-11-04 08:12:23  Bin_0.0  Bin_1.0  \\\n",
            "0  ...                                        False     True    False   \n",
            "1  ...                                        False    False    False   \n",
            "2  ...                                        False    False     True   \n",
            "3  ...                                        False    False     True   \n",
            "4  ...                                        False    False     True   \n",
            "\n",
            "   Bin_2.0  Bin_3.0  Bin_0.0.1  Bin_1.0.1  Bin_2.0.1  Bin_3.0.1  Target  \n",
            "0    False    False      False      False      False       True       1  \n",
            "1     True    False      False      False      False       True       2  \n",
            "2    False    False       True      False      False      False       3  \n",
            "3    False    False       True      False      False      False       3  \n",
            "4    False    False       True      False      False      False       3  \n",
            "\n",
            "[5 rows x 7262 columns]\n"
          ]
        }
      ]
    },
    {
      "cell_type": "markdown",
      "source": [],
      "metadata": {
        "id": "6mStFqDkcei2"
      }
    },
    {
      "cell_type": "markdown",
      "source": [
        "# **3. Data Splitting**\n",
        "Tahap Data Splitting bertujuan untuk memisahkan dataset menjadi dua bagian: data latih (training set) dan data uji (test set)."
      ],
      "metadata": {
        "id": "KkPem5eWL2UP"
      }
    },
    {
      "cell_type": "code",
      "source": [
        "# Menggunakan train_test_split() untuk melakukan pembagian dataset.\n",
        "\n",
        "# Asumsikan 'Target' adalah kolom target Anda\n",
        "X = df.drop('Target', axis=1)\n",
        "y = df['Target']\n",
        "\n",
        "# Bagi dataset menjadi data latih dan data uji\n",
        "X_train, X_test, y_train, y_test = train_test_split(X, y, test_size=0.2, random_state=42)\n",
        "\n",
        "print(\"Ukuran X_train:\", X_train.shape)\n",
        "print(\"Ukuran X_test:\", X_test.shape)\n",
        "print(\"Ukuran y_train:\", y_train.shape)\n",
        "print(\"Ukuran y_test:\", y_test.shape)\n"
      ],
      "metadata": {
        "id": "OubAW-7ONKVj",
        "outputId": "501d0e9b-d00d-4b79-de45-256c03ffc771",
        "colab": {
          "base_uri": "https://localhost:8080/"
        }
      },
      "execution_count": 20,
      "outputs": [
        {
          "output_type": "stream",
          "name": "stdout",
          "text": [
            "Ukuran X_train: (1919, 7261)\n",
            "Ukuran X_test: (480, 7261)\n",
            "Ukuran y_train: (1919,)\n",
            "Ukuran y_test: (480,)\n"
          ]
        }
      ]
    },
    {
      "cell_type": "markdown",
      "source": [
        "# **4. Membangun Model Klasifikasi**\n",
        "Setelah memilih algoritma klasifikasi yang sesuai, langkah selanjutnya adalah melatih model menggunakan data latih.\n",
        "\n",
        "Berikut adalah rekomendasi tahapannya.\n",
        "1. Menggunakan algoritma klasifikasi yaitu Decision Tree.\n",
        "2. Latih model menggunakan data yang sudah dipisah."
      ],
      "metadata": {
        "id": "IVPbB03CMhTT"
      }
    },
    {
      "cell_type": "code",
      "source": [
        "# Buatlah model klasifikasi menggunakan Decision Tree\n",
        "\n",
        "# 1. Buatlah model klasifikasi menggunakan Decision Tree\n",
        "model_dt = DecisionTreeClassifier(random_state=42)\n",
        "\n",
        "# 2. Latih model menggunakan data yang sudah dipisah (data latih)\n",
        "model_dt.fit(X_train, y_train)\n",
        "\n",
        "print(\"Model Decision Tree telah dibuat dan dilatih.\")"
      ],
      "metadata": {
        "id": "4JYxBe87NLDk",
        "outputId": "63f7ed77-b3eb-4986-e15e-b1fe5bc54b61",
        "colab": {
          "base_uri": "https://localhost:8080/"
        }
      },
      "execution_count": 23,
      "outputs": [
        {
          "output_type": "stream",
          "name": "stdout",
          "text": [
            "Model Decision Tree telah dibuat dan dilatih.\n"
          ]
        }
      ]
    },
    {
      "cell_type": "code",
      "source": [
        "# Menyimpan Model\n",
        "# import joblib\n",
        "# joblib.dump(model, 'decision_tree_model.h5')\n",
        "\n",
        "joblib.dump(model_dt, 'decision_tree_model.h5')\n",
        "\n",
        "print(\"Model Decision Tree telah disimpan sebagai 'decision_tree_model.h5'\")"
      ],
      "metadata": {
        "id": "P_AakAxghYv-",
        "outputId": "ad9e3a1c-21a1-4789-dc05-2e9fafcb0eb7",
        "colab": {
          "base_uri": "https://localhost:8080/"
        }
      },
      "execution_count": 24,
      "outputs": [
        {
          "output_type": "stream",
          "name": "stdout",
          "text": [
            "Model Decision Tree telah disimpan sebagai 'decision_tree_model.h5'\n"
          ]
        }
      ]
    },
    {
      "cell_type": "markdown",
      "source": [
        "# **5. Memenuhi Kriteria Skilled dan Advanced dalam Membangun Model Klasifikasi**\n",
        "\n"
      ],
      "metadata": {
        "id": "epO4HhrzBXMg"
      }
    },
    {
      "cell_type": "markdown",
      "source": [
        "**Biarkan kosong jika tidak menerapkan kriteria skilled atau advanced**"
      ],
      "metadata": {
        "id": "DNOEZk24uiXu"
      }
    },
    {
      "cell_type": "code",
      "source": [
        "# Melatih model menggunakan algoritma klasifikasi selain Decision Tree.\n",
        "\n",
        "# Buatlah model klasifikasi menggunakan Support Vector Machine (SVM)\n",
        "model_svm = SVC(random_state=42)\n",
        "\n",
        "# Latih model menggunakan data yang sudah dipisah (data latih)\n",
        "model_svm.fit(X_train, y_train)\n",
        "\n",
        "print(\"Model Support Vector Machine (SVM) telah dibuat dan dilatih.\")"
      ],
      "metadata": {
        "id": "kB_8LIWMATl6",
        "outputId": "68d35ff6-0cad-4aa3-86be-1ffaa1132e7c",
        "colab": {
          "base_uri": "https://localhost:8080/"
        }
      },
      "execution_count": 27,
      "outputs": [
        {
          "output_type": "stream",
          "name": "stdout",
          "text": [
            "Model Support Vector Machine (SVM) telah dibuat dan dilatih.\n"
          ]
        }
      ]
    },
    {
      "cell_type": "code",
      "source": [
        "# Menampilkan hasil evaluasi akurasi, presisi, recall, dan F1-Score pada seluruh algoritma yang sudah dibuat.\n",
        "\n",
        "\n",
        "\n",
        "# --- Evaluasi Model Decision Tree ---\n",
        "print(\"--- Evaluasi Model Decision Tree ---\")\n",
        "\n",
        "# Lakukan prediksi pada data uji menggunakan model Decision Tree\n",
        "y_pred_dt = model_dt.predict(X_test)\n",
        "\n",
        "# Hitung metrik evaluasi untuk model Decision Tree\n",
        "accuracy_dt = accuracy_score(y_test, y_pred_dt)\n",
        "# Untuk dataset multi-class, gunakan average='weighted' atau 'macro'\n",
        "# 'weighted' menghitung metrik untuk setiap label, lalu mengambil rata-rata tertimbang\n",
        "# 'macro' menghitung metrik untuk setiap label, lalu mengambil rata-rata tanpa bobot\n",
        "precision_dt = precision_score(y_test, y_pred_dt, average='weighted', zero_division=1)\n",
        "recall_dt = recall_score(y_test, y_pred_dt, average='weighted', zero_division=1)\n",
        "f1_dt = f1_score(y_test, y_pred_dt, average='weighted', zero_division=1)\n",
        "\n",
        "# Tampilkan hasil evaluasi Decision Tree\n",
        "print(f\"Akurasi: {accuracy_dt:.4f}\")\n",
        "print(f\"Presisi: {precision_dt:.4f}\")\n",
        "print(f\"Recall: {recall_dt:.4f}\")\n",
        "print(f\"F1-Score: {f1_dt:.4f}\")\n",
        "\n",
        "# --- Evaluasi Model Support Vector Machine (SVM) ---\n",
        "print(\"\\n--- Evaluasi Model Support Vector Machine (SVM) ---\")\n",
        "\n",
        "# Lakukan prediksi pada data uji menggunakan model SVM\n",
        "y_pred_svm = model_svm.predict(X_test)\n",
        "\n",
        "# Hitung metrik evaluasi untuk model SVM\n",
        "accuracy_svm = accuracy_score(y_test, y_pred_svm)\n",
        "precision_svm = precision_score(y_test, y_pred_svm, average='weighted', zero_division=1)\n",
        "recall_svm = recall_score(y_test, y_pred_svm, average='weighted', zero_division=1)\n",
        "f1_svm = f1_score(y_test, y_pred_svm, average='weighted', zero_division=1)\n",
        "\n",
        "# Tampilkan hasil evaluasi SVM\n",
        "print(f\"Akurasi: {accuracy_svm:.4f}\")\n",
        "print(f\"Presisi: {precision_svm:.4f}\")\n",
        "print(f\"Recall: {recall_svm:.4f}\")\n",
        "print(f\"F1-Score: {f1_svm:.4f}\")"
      ],
      "metadata": {
        "id": "bRlKm5BVAT91",
        "outputId": "a46ea436-29b9-4557-c939-e993900e795a",
        "colab": {
          "base_uri": "https://localhost:8080/"
        }
      },
      "execution_count": 30,
      "outputs": [
        {
          "output_type": "stream",
          "name": "stdout",
          "text": [
            "--- Evaluasi Model Decision Tree ---\n",
            "Akurasi: 0.9750\n",
            "Presisi: 0.9752\n",
            "Recall: 0.9750\n",
            "F1-Score: 0.9749\n",
            "\n",
            "--- Evaluasi Model Support Vector Machine (SVM) ---\n",
            "Akurasi: 0.9812\n",
            "Presisi: 0.9813\n",
            "Recall: 0.9812\n",
            "F1-Score: 0.9812\n"
          ]
        }
      ]
    },
    {
      "cell_type": "code",
      "source": [
        "# Menyimpan Model Selain Decision Tree\n",
        "# Model ini bisa lebih dari satu\n",
        "# import joblib\n",
        "# joblib.dump(___, 'explore_<Nama Algoritma>_classification.h5')\n",
        "\n",
        "# Menyimpan Model Support Vector Machine (SVM)\n",
        "joblib.dump(model_svm, 'explore_SVM_classification.h5')\n",
        "\n",
        "print(\"Model Support Vector Machine (SVM) telah disimpan sebagai 'explore_SVM_classification.h5'\")\n"
      ],
      "metadata": {
        "id": "dUPItkbXBNkO",
        "outputId": "3948fcbb-39a1-4ae1-ff5f-851436920d64",
        "colab": {
          "base_uri": "https://localhost:8080/"
        }
      },
      "execution_count": 31,
      "outputs": [
        {
          "output_type": "stream",
          "name": "stdout",
          "text": [
            "Model Support Vector Machine (SVM) telah disimpan sebagai 'explore_SVM_classification.h5'\n"
          ]
        }
      ]
    },
    {
      "cell_type": "markdown",
      "source": [
        "Hyperparameter Tuning Model\n",
        "\n",
        "Pilih salah satu algoritma yang ingin Anda tuning"
      ],
      "metadata": {
        "id": "u23H2guj-h9h"
      }
    },
    {
      "cell_type": "code",
      "source": [
        "# Lakukan Hyperparameter Tuning dan Latih ulang.\n",
        "param_grid_dt = {\n",
        "    'max_depth': [None, 10, 20, 30],\n",
        "    'min_samples_split': [2, 5, 10],\n",
        "    'min_samples_leaf': [1, 2, 4]\n",
        "}\n",
        "\n",
        "# 2. Gunakan GridSearchCV\n",
        "# base_estimator: Model yang ingin dituning\n",
        "# param_grid: Ruang parameter yang ditentukan\n",
        "# cv: Jumlah lipatan (folds) untuk cross-validation (untuk evaluasi yang lebih robust)\n",
        "# scoring: Metrik evaluasi yang digunakan (misalnya 'accuracy', 'f1_weighted')\n",
        "grid_search_dt = GridSearchCV(estimator=DecisionTreeClassifier(random_state=42),\n",
        "                              param_grid=param_grid_dt,\n",
        "                              cv=5, # Menggunakan 5-fold cross-validation\n",
        "                              scoring='f1_weighted', # Menggunakan F1-score weighted untuk multi-class\n",
        "                              n_jobs=-1) # Menggunakan semua core CPU yang tersedia\n",
        "\n",
        "# 3. Latih GridSearchCV\n",
        "print(\"Melakukan Hyperparameter Tuning untuk Decision Tree...\")\n",
        "grid_search_dt.fit(X_train, y_train)\n",
        "\n",
        "# 4. Dapatkan Model Terbaik dan Parameter Terbaik\n",
        "best_model_dt = grid_search_dt.best_estimator_\n",
        "best_params_dt = grid_search_dt.best_params_\n",
        "\n",
        "print(\"\\nHasil Hyperparameter Tuning Decision Tree:\")\n",
        "print(f\"Parameter Terbaik: {best_params_dt}\")\n",
        "print(f\"Skor F1 (Weighted) Terbaik (Cross-Validation): {grid_search_dt.best_score_:.4f}\")\n",
        "\n",
        "# 5. Latih Ulang Model Terbaik (Opsional, GridSearchCV.best_estimator_ sudah dilatih)\n",
        "# Jika Anda ingin melatih ulang model terbaik pada seluruh data latih:\n",
        "# model_dt_tuned = DecisionTreeClassifier(**best_params_dt, random_state=42)\n",
        "# model_dt_tuned.fit(X_train, y_train)\n",
        "# print(\"\\nModel Decision Tree dengan parameter terbaik telah dilatih ulang.\")\n",
        "\n",
        "# Menggunakan model terbaik dari Grid Search untuk evaluasi akhir pada data uji\n",
        "y_pred_dt_tuned = best_model_dt.predict(X_test)\n",
        "\n",
        "# Evaluasi model terbaik pada data uji\n",
        "accuracy_dt_tuned = accuracy_score(y_test, y_pred_dt_tuned)\n",
        "precision_dt_tuned = precision_score(y_test, y_pred_dt_tuned, average='weighted', zero_division=1)\n",
        "recall_dt_tuned = recall_score(y_test, y_pred_dt_tuned, average='weighted', zero_division=1)\n",
        "f1_dt_tuned = f1_score(y_test, y_pred_dt_tuned, average='weighted', zero_division=1)\n",
        "\n",
        "print(\"\\nEvaluasi Model Decision Tree (Setelah Tuning) pada Data Uji:\")\n",
        "print(f\"Akurasi: {accuracy_dt_tuned:.4f}\")\n",
        "print(f\"Presisi: {precision_dt_tuned:.4f}\")\n",
        "print(f\"Recall: {recall_dt_tuned:.4f}\")\n",
        "print(f\"F1-Score: {f1_dt_tuned:.4f}\")"
      ],
      "metadata": {
        "id": "dFCTxJJq-m-l",
        "outputId": "6a2e11c5-a41e-4c3c-c788-1ed1b08e73ca",
        "colab": {
          "base_uri": "https://localhost:8080/"
        }
      },
      "execution_count": 34,
      "outputs": [
        {
          "output_type": "stream",
          "name": "stdout",
          "text": [
            "Melakukan Hyperparameter Tuning untuk Decision Tree...\n",
            "\n",
            "Hasil Hyperparameter Tuning Decision Tree:\n",
            "Parameter Terbaik: {'max_depth': None, 'min_samples_leaf': 1, 'min_samples_split': 5}\n",
            "Skor F1 (Weighted) Terbaik (Cross-Validation): 0.9766\n",
            "\n",
            "Evaluasi Model Decision Tree (Setelah Tuning) pada Data Uji:\n",
            "Akurasi: 0.9708\n",
            "Presisi: 0.9712\n",
            "Recall: 0.9708\n",
            "F1-Score: 0.9707\n"
          ]
        }
      ]
    },
    {
      "cell_type": "markdown",
      "source": [],
      "metadata": {
        "id": "g9IIIDJIfHfA"
      }
    },
    {
      "cell_type": "code",
      "source": [
        "# Menyimpan Model hasil tuning\n",
        "# import joblib\n",
        "# joblib.dump(model_dt, 'tuning_classification.h5')\n",
        "\n",
        "joblib.dump(best_model_dt, 'tuning_classification.h5')\n",
        "\n",
        "print(\"Model Decision Tree hasil tuning telah disimpan sebagai 'tuning_classification.h5'\")"
      ],
      "metadata": {
        "id": "7UJNcVP--n7S",
        "outputId": "e1d14b28-1632-4d5e-a650-43ebbabe9f16",
        "colab": {
          "base_uri": "https://localhost:8080/"
        }
      },
      "execution_count": 35,
      "outputs": [
        {
          "output_type": "stream",
          "name": "stdout",
          "text": [
            "Model Decision Tree hasil tuning telah disimpan sebagai 'tuning_classification.h5'\n"
          ]
        }
      ]
    }
  ]
}