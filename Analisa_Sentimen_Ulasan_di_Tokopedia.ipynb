{
  "metadata": {
    "kernelspec": {
      "language": "python",
      "display_name": "Python 3",
      "name": "python3"
    },
    "language_info": {
      "pygments_lexer": "ipython3",
      "nbconvert_exporter": "python",
      "version": "3.6.4",
      "file_extension": ".py",
      "codemirror_mode": {
        "name": "ipython",
        "version": 3
      },
      "name": "python",
      "mimetype": "text/x-python"
    },
    "colab": {
      "provenance": [],
      "include_colab_link": true
    }
  },
  "nbformat_minor": 0,
  "nbformat": 4,
  "cells": [
    {
      "cell_type": "markdown",
      "metadata": {
        "id": "view-in-github",
        "colab_type": "text"
      },
      "source": [
        "<a href=\"https://colab.research.google.com/github/Mutasar/Membangun-Proyek-Machine-Learning/blob/main/Analisa_Sentimen_Ulasan_di_Tokopedia.ipynb\" target=\"_parent\"><img src=\"https://colab.research.google.com/assets/colab-badge.svg\" alt=\"Open In Colab\"/></a>"
      ]
    },
    {
      "cell_type": "markdown",
      "source": [
        "Pada Bagian ke-1 ini saya akan melakukan labeling dan pemrosesan prediksi klasifikasi dengan machine learning serta analisa teks ulasan pada Tokopedia."
      ],
      "metadata": {
        "id": "xiMR7SssKPN1"
      }
    },
    {
      "cell_type": "markdown",
      "source": [
        "# 1. Import Library"
      ],
      "metadata": {
        "id": "CTwgD_92hGxJ"
      }
    },
    {
      "cell_type": "code",
      "source": [
        "import pandas as pd\n",
        "import matplotlib.pyplot as plt\n",
        "import numpy as np\n",
        "import pandas as pd\n",
        "import matplotlib.pyplot as plt\n",
        "import seaborn as sns\n",
        "import statsmodels.api as sm\n",
        "import re\n",
        "import string\n",
        "\n",
        "import nltk\n",
        "from nltk.corpus import stopwords\n",
        "from nltk.tokenize import word_tokenize\n",
        "\n",
        "\n",
        "\n",
        "from sklearn.feature_extraction.text import CountVectorizer, TfidfTransformer\n",
        "from google.colab import drive\n",
        "from sklearn.preprocessing import MinMaxScaler\n",
        "from sklearn.preprocessing import LabelEncoder\n",
        "from statsmodels.tsa.seasonal import seasonal_decompose\n",
        "from sklearn.cluster import KMeans\n",
        "from yellowbrick.cluster import KElbowVisualizer\n",
        "import joblib\n",
        "from google.colab import files"
      ],
      "metadata": {
        "id": "4LqS_huchATa"
      },
      "execution_count": null,
      "outputs": []
    },
    {
      "cell_type": "markdown",
      "source": [
        "# Import dataset yang telah dilakukan text preprocessing"
      ],
      "metadata": {
        "id": "zmzfyWzvLO-L"
      }
    },
    {
      "cell_type": "code",
      "source": [
        "data = pd.read_excel(\"../input/texttokped/tokped_text.xlsx\", index_col=0)\n",
        "\n",
        "data.head()"
      ],
      "metadata": {
        "id": "k0jgO2yuJYkY",
        "execution": {
          "iopub.status.busy": "2021-06-25T03:58:56.133739Z",
          "iopub.execute_input": "2021-06-25T03:58:56.134111Z",
          "iopub.status.idle": "2021-06-25T03:58:56.528158Z",
          "shell.execute_reply.started": "2021-06-25T03:58:56.134068Z",
          "shell.execute_reply": "2021-06-25T03:58:56.527393Z"
        },
        "trusted": true
      },
      "execution_count": null,
      "outputs": []
    },
    {
      "cell_type": "markdown",
      "source": [
        "# Labeling"
      ],
      "metadata": {
        "id": "TiGxYz_YK6iV"
      }
    },
    {
      "cell_type": "markdown",
      "source": [
        "Pembagian data menjadi data sentimen berlabel positif dan negatif dengan angka 1 untuk positif dan angka 0 untuk negatif. Pengklasifikasian ini dilakukan pada ulasan yang memiliki rating 4 dan 5 sebagai sentimen positif dan rating 3 sampai 1 sebagai sentimen negatif."
      ],
      "metadata": {
        "id": "ob5yUcnNKPN5"
      }
    },
    {
      "cell_type": "code",
      "source": [
        "label = []\n",
        "for index, row in data.iterrows():\n",
        "    if row[\"rate\"] == 5 or row[\"rate\"] == 4:\n",
        "        label.append(1)\n",
        "    else:\n",
        "        label.append(0)\n",
        "\n",
        "data[\"label\"] = label\n",
        "\n",
        "data"
      ],
      "metadata": {
        "id": "U2uPT_htK9Bk",
        "execution": {
          "iopub.status.busy": "2021-06-25T03:59:02.479164Z",
          "iopub.execute_input": "2021-06-25T03:59:02.479764Z",
          "iopub.status.idle": "2021-06-25T03:59:02.540207Z",
          "shell.execute_reply.started": "2021-06-25T03:59:02.479727Z",
          "shell.execute_reply": "2021-06-25T03:59:02.53876Z"
        },
        "trusted": true
      },
      "execution_count": null,
      "outputs": []
    },
    {
      "cell_type": "code",
      "source": [
        "data[\"label\"].value_counts()"
      ],
      "metadata": {
        "id": "7Z6f7VYALKS9",
        "execution": {
          "iopub.status.busy": "2021-06-25T03:59:06.716677Z",
          "iopub.execute_input": "2021-06-25T03:59:06.717129Z",
          "iopub.status.idle": "2021-06-25T03:59:06.7293Z",
          "shell.execute_reply.started": "2021-06-25T03:59:06.717092Z",
          "shell.execute_reply": "2021-06-25T03:59:06.727662Z"
        },
        "trusted": true
      },
      "execution_count": null,
      "outputs": []
    },
    {
      "cell_type": "markdown",
      "source": [
        "# Menghitung Kata Dengan TF-IDF"
      ],
      "metadata": {
        "id": "-dL5Z4sYJJLf"
      }
    },
    {
      "cell_type": "code",
      "source": [
        "from sklearn.feature_extraction.text import CountVectorizer, TfidfTransformer"
      ],
      "metadata": {
        "id": "WDspP7HlJIQw",
        "execution": {
          "iopub.status.busy": "2021-06-25T03:59:08.675917Z",
          "iopub.execute_input": "2021-06-25T03:59:08.676314Z",
          "iopub.status.idle": "2021-06-25T03:59:09.898809Z",
          "shell.execute_reply.started": "2021-06-25T03:59:08.67628Z",
          "shell.execute_reply": "2021-06-25T03:59:09.897219Z"
        },
        "trusted": true
      },
      "execution_count": null,
      "outputs": []
    },
    {
      "cell_type": "code",
      "source": [
        "Ulasan = data['Ulasan_clean']"
      ],
      "metadata": {
        "id": "5awBh8iVJBHK",
        "execution": {
          "iopub.status.busy": "2021-06-25T03:59:10.274915Z",
          "iopub.execute_input": "2021-06-25T03:59:10.275336Z",
          "iopub.status.idle": "2021-06-25T03:59:10.281609Z",
          "shell.execute_reply.started": "2021-06-25T03:59:10.2753Z",
          "shell.execute_reply": "2021-06-25T03:59:10.27968Z"
        },
        "trusted": true
      },
      "execution_count": null,
      "outputs": []
    },
    {
      "cell_type": "code",
      "source": [
        "Ulasan.isnull().sum()"
      ],
      "metadata": {
        "id": "xeiWpO5CKLfU",
        "execution": {
          "iopub.status.busy": "2021-06-25T03:59:11.642183Z",
          "iopub.execute_input": "2021-06-25T03:59:11.642609Z",
          "iopub.status.idle": "2021-06-25T03:59:11.650317Z",
          "shell.execute_reply.started": "2021-06-25T03:59:11.642563Z",
          "shell.execute_reply": "2021-06-25T03:59:11.649226Z"
        },
        "trusted": true
      },
      "execution_count": null,
      "outputs": []
    },
    {
      "cell_type": "code",
      "source": [
        "Ulasan = Ulasan.fillna('tidak ada komentar')"
      ],
      "metadata": {
        "id": "6Jh6pAVBKdb_",
        "execution": {
          "iopub.status.busy": "2021-06-25T03:59:13.262155Z",
          "iopub.execute_input": "2021-06-25T03:59:13.263021Z",
          "iopub.status.idle": "2021-06-25T03:59:13.270293Z",
          "shell.execute_reply.started": "2021-06-25T03:59:13.262968Z",
          "shell.execute_reply": "2021-06-25T03:59:13.268286Z"
        },
        "trusted": true
      },
      "execution_count": null,
      "outputs": []
    },
    {
      "cell_type": "code",
      "source": [
        "#untuk menghitung jumlah kata yang telah di steming\n",
        "cv = CountVectorizer()\n",
        "term_fit = cv.fit(Ulasan)\n",
        "\n",
        "print (len(term_fit.vocabulary_))"
      ],
      "metadata": {
        "id": "Mdw0d0wFKChV",
        "execution": {
          "iopub.status.busy": "2021-06-25T03:59:15.452913Z",
          "iopub.execute_input": "2021-06-25T03:59:15.453299Z",
          "iopub.status.idle": "2021-06-25T03:59:15.467943Z",
          "shell.execute_reply.started": "2021-06-25T03:59:15.453267Z",
          "shell.execute_reply": "2021-06-25T03:59:15.466891Z"
        },
        "trusted": true
      },
      "execution_count": null,
      "outputs": []
    },
    {
      "cell_type": "code",
      "source": [
        "term_fit.vocabulary_ #mengurutkan berdasarkan urutab abjad kata"
      ],
      "metadata": {
        "id": "JZ25a7ZkKkl8",
        "execution": {
          "iopub.status.busy": "2021-06-25T03:59:17.729551Z",
          "iopub.execute_input": "2021-06-25T03:59:17.730027Z",
          "iopub.status.idle": "2021-06-25T03:59:17.755951Z",
          "shell.execute_reply.started": "2021-06-25T03:59:17.729987Z",
          "shell.execute_reply": "2021-06-25T03:59:17.754627Z"
        },
        "trusted": true
      },
      "execution_count": null,
      "outputs": []
    },
    {
      "cell_type": "code",
      "source": [
        "#kolom pertama ini berarti jumlah dokumen\n",
        "#kolom kedua berarti letak katanya\n",
        "#kolom ketiga hasil dari tf\n",
        "\n",
        "term_frequency_all = term_fit.transform(Ulasan)\n",
        "print (term_frequency_all)"
      ],
      "metadata": {
        "id": "qRdJ7bgqKl7W",
        "execution": {
          "iopub.status.busy": "2021-06-25T03:59:27.356669Z",
          "iopub.execute_input": "2021-06-25T03:59:27.357071Z",
          "iopub.status.idle": "2021-06-25T03:59:27.373261Z",
          "shell.execute_reply.started": "2021-06-25T03:59:27.357039Z",
          "shell.execute_reply": "2021-06-25T03:59:27.371995Z"
        },
        "trusted": true
      },
      "execution_count": null,
      "outputs": []
    },
    {
      "cell_type": "code",
      "source": [
        "ulasan_tf = Ulasan[1] #memanggil kata pada index ke 1\n",
        "print (ulasan_tf)"
      ],
      "metadata": {
        "id": "vEdNicLRKqa5",
        "execution": {
          "iopub.status.busy": "2021-06-25T03:59:30.479057Z",
          "iopub.execute_input": "2021-06-25T03:59:30.481207Z",
          "iopub.status.idle": "2021-06-25T03:59:30.489216Z",
          "shell.execute_reply.started": "2021-06-25T03:59:30.481139Z",
          "shell.execute_reply": "2021-06-25T03:59:30.488026Z"
        },
        "trusted": true
      },
      "execution_count": null,
      "outputs": []
    },
    {
      "cell_type": "code",
      "source": [
        "term_frequency = term_fit.transform([ulasan_tf]) #hanya menampilkan hasil document 1\n",
        "print (term_frequency)"
      ],
      "metadata": {
        "id": "rj0-LzN9KsEo",
        "execution": {
          "iopub.status.busy": "2021-06-25T03:59:32.161439Z",
          "iopub.execute_input": "2021-06-25T03:59:32.162118Z",
          "iopub.status.idle": "2021-06-25T03:59:32.169875Z",
          "shell.execute_reply.started": "2021-06-25T03:59:32.162064Z",
          "shell.execute_reply": "2021-06-25T03:59:32.16864Z"
        },
        "trusted": true
      },
      "execution_count": null,
      "outputs": []
    },
    {
      "cell_type": "code",
      "source": [
        "dokumen = term_fit.transform(Ulasan) #hasil perhitungan tf idf dalam 1 doc\n",
        "tfidf_transformer = TfidfTransformer().fit(dokumen)\n",
        "print (tfidf_transformer.idf_)\n",
        "\n",
        "tfidf=tfidf_transformer.transform(term_frequency)\n",
        "print (tfidf) #hasil manual dengan sistem pyhton"
      ],
      "metadata": {
        "id": "Y0PgyiBoKuEu",
        "execution": {
          "iopub.status.busy": "2021-06-25T03:59:34.346715Z",
          "iopub.execute_input": "2021-06-25T03:59:34.347452Z",
          "iopub.status.idle": "2021-06-25T03:59:34.374813Z",
          "shell.execute_reply.started": "2021-06-25T03:59:34.347396Z",
          "shell.execute_reply": "2021-06-25T03:59:34.373687Z"
        },
        "trusted": true
      },
      "execution_count": null,
      "outputs": []
    },
    {
      "cell_type": "markdown",
      "source": [
        "# NLP"
      ],
      "metadata": {
        "id": "FucrAd_mLU7m"
      }
    },
    {
      "cell_type": "code",
      "source": [
        "data_label = data[[\"Nama_Produk\", \"Akun\", \"Ulasan_clean\", \"label\"]]"
      ],
      "metadata": {
        "id": "YE9tXD1SPx0F",
        "execution": {
          "iopub.status.busy": "2021-06-25T03:59:38.044954Z",
          "iopub.execute_input": "2021-06-25T03:59:38.045747Z",
          "iopub.status.idle": "2021-06-25T03:59:38.053688Z",
          "shell.execute_reply.started": "2021-06-25T03:59:38.045686Z",
          "shell.execute_reply": "2021-06-25T03:59:38.052662Z"
        },
        "trusted": true
      },
      "execution_count": null,
      "outputs": []
    },
    {
      "cell_type": "code",
      "source": [
        "data_label[\"Ulasan_clean\"] = data_label[\"Ulasan_clean\"].fillna(\"tidak ada komentar\")"
      ],
      "metadata": {
        "id": "gGxHBBpPcHyN",
        "execution": {
          "iopub.status.busy": "2021-06-25T03:59:39.447447Z",
          "iopub.execute_input": "2021-06-25T03:59:39.44811Z",
          "iopub.status.idle": "2021-06-25T03:59:39.457613Z",
          "shell.execute_reply.started": "2021-06-25T03:59:39.448056Z",
          "shell.execute_reply": "2021-06-25T03:59:39.456288Z"
        },
        "trusted": true
      },
      "execution_count": null,
      "outputs": []
    },
    {
      "cell_type": "code",
      "source": [
        "data_label.to_excel(\"data_label.xlsx\")"
      ],
      "metadata": {
        "id": "km4rAC9ncGpc",
        "execution": {
          "iopub.status.busy": "2021-06-25T03:59:41.572734Z",
          "iopub.execute_input": "2021-06-25T03:59:41.573471Z",
          "iopub.status.idle": "2021-06-25T03:59:41.65777Z",
          "shell.execute_reply.started": "2021-06-25T03:59:41.573412Z",
          "shell.execute_reply": "2021-06-25T03:59:41.656875Z"
        },
        "trusted": true
      },
      "execution_count": null,
      "outputs": []
    },
    {
      "cell_type": "code",
      "source": [
        "sentimen_data=pd.value_counts(data_label[\"label\"], sort= True)\n",
        "sentimen_data.plot(kind= 'bar', color= [\"green\", \"red\"])\n",
        "plt.title('Bar chart')\n",
        "plt.show()"
      ],
      "metadata": {
        "id": "lhWwaWXPdmNs",
        "execution": {
          "iopub.status.busy": "2021-06-25T04:00:16.443501Z",
          "iopub.execute_input": "2021-06-25T04:00:16.44395Z",
          "iopub.status.idle": "2021-06-25T04:00:16.581778Z",
          "shell.execute_reply.started": "2021-06-25T04:00:16.443912Z",
          "shell.execute_reply": "2021-06-25T04:00:16.58041Z"
        },
        "trusted": true
      },
      "execution_count": null,
      "outputs": []
    },
    {
      "cell_type": "markdown",
      "source": [
        "Dapat dilihat bahwa isi ulasan produk lebih banyak pada label sentimen 1 atau ulasan dengan rating postitif ini berarti pelanggan yang menggunakan marketplace Tokopedia dan melakukan transaksi pembelian pada produk masker Kesehatan merasa puas bertansaksi di marketplace Tokopedia dan prosuk masker Kesehatan sehingga memberikan feedback atau ulasan komentar lebih banyak yang positif."
      ],
      "metadata": {
        "id": "KlB9v7V1KPN8"
      }
    },
    {
      "cell_type": "code",
      "source": [
        "from wordcloud import WordCloud"
      ],
      "metadata": {
        "id": "w4AMa4-8LgOf",
        "execution": {
          "iopub.status.busy": "2021-06-25T04:00:24.22642Z",
          "iopub.execute_input": "2021-06-25T04:00:24.226816Z",
          "iopub.status.idle": "2021-06-25T04:00:24.273692Z",
          "shell.execute_reply.started": "2021-06-25T04:00:24.226784Z",
          "shell.execute_reply": "2021-06-25T04:00:24.2724Z"
        },
        "trusted": true
      },
      "execution_count": null,
      "outputs": []
    },
    {
      "cell_type": "markdown",
      "source": [
        "**Ulasan Negatif**"
      ],
      "metadata": {
        "id": "Z5wUjhgIKPN9"
      }
    },
    {
      "cell_type": "code",
      "source": [
        "train_s0 = data_label[data_label[\"label\"] == 0]"
      ],
      "metadata": {
        "id": "1cCT4xRORqIX",
        "execution": {
          "iopub.status.busy": "2021-06-25T04:00:26.154575Z",
          "iopub.execute_input": "2021-06-25T04:00:26.155037Z",
          "iopub.status.idle": "2021-06-25T04:00:26.18132Z",
          "shell.execute_reply.started": "2021-06-25T04:00:26.154999Z",
          "shell.execute_reply": "2021-06-25T04:00:26.179999Z"
        },
        "trusted": true
      },
      "execution_count": null,
      "outputs": []
    },
    {
      "cell_type": "code",
      "source": [
        "train_s0[\"Ulasan_clean\"] = train_s0[\"Ulasan_clean\"].fillna(\"tidak ada komentar\")"
      ],
      "metadata": {
        "id": "rJzl756DQ6l3",
        "execution": {
          "iopub.status.busy": "2021-06-25T04:00:27.840977Z",
          "iopub.execute_input": "2021-06-25T04:00:27.841381Z",
          "iopub.status.idle": "2021-06-25T04:00:27.848858Z",
          "shell.execute_reply.started": "2021-06-25T04:00:27.841348Z",
          "shell.execute_reply": "2021-06-25T04:00:27.847552Z"
        },
        "trusted": true
      },
      "execution_count": null,
      "outputs": []
    },
    {
      "cell_type": "code",
      "source": [
        "train_s0"
      ],
      "metadata": {
        "id": "0oG27WWjRSmc",
        "execution": {
          "iopub.status.busy": "2021-06-25T04:00:30.46488Z",
          "iopub.execute_input": "2021-06-25T04:00:30.465489Z",
          "iopub.status.idle": "2021-06-25T04:00:30.486026Z",
          "shell.execute_reply.started": "2021-06-25T04:00:30.465445Z",
          "shell.execute_reply": "2021-06-25T04:00:30.48443Z"
        },
        "trusted": true
      },
      "execution_count": null,
      "outputs": []
    },
    {
      "cell_type": "code",
      "source": [
        "all_text_s0 = ' '.join(word for word in train_s0[\"Ulasan_clean\"])\n",
        "wordcloud = WordCloud(colormap='Reds', width=1000, height=1000, mode='RGBA', background_color='white').generate(all_text_s0)\n",
        "plt.figure(figsize=(20,10))\n",
        "plt.imshow(wordcloud, interpolation='bilinear')\n",
        "plt.axis(\"off\")\n",
        "plt.margins(x=0, y=0)\n",
        "plt.show()"
      ],
      "metadata": {
        "id": "0mTfe0q-Lij3",
        "execution": {
          "iopub.status.busy": "2021-06-25T04:00:33.526389Z",
          "iopub.execute_input": "2021-06-25T04:00:33.527122Z",
          "iopub.status.idle": "2021-06-25T04:00:35.864213Z",
          "shell.execute_reply.started": "2021-06-25T04:00:33.52708Z",
          "shell.execute_reply": "2021-06-25T04:00:35.863015Z"
        },
        "trusted": true
      },
      "execution_count": null,
      "outputs": []
    },
    {
      "cell_type": "markdown",
      "source": [
        "Dari visualisasi diatas merupakan wordcloud kata yang paling banyak muncul pada isi ulasan yang memiliki label sentimen negatif. Kata yang paling sering muncul dan mengarah ke ulasan negatif membahas seputar : barang, harga, kotak, penyok, box, dus, tipis, putus, sobek, kualitas, karet, bolong dan sebagainya. Sehingga dari kata-kata ini bisa menjadi masukan untuk penjual dan marketplace Tokopedia untuk meningkatkan kualitas barang (produk masker kesehatan), harga, kualitas pengiriman atau pengemasan, serta kualitas produk masker Kesehatan yang paling banyak disebutkan pelanggan dalam hasil Analisa ulasan sentimen yang negatif."
      ],
      "metadata": {
        "id": "v10e-ZV0KPN-"
      }
    },
    {
      "cell_type": "markdown",
      "source": [
        "**Ulasan Positif**"
      ],
      "metadata": {
        "id": "Cv2P7siHKPN-"
      }
    },
    {
      "cell_type": "code",
      "source": [
        "train_s1 = data_label[data_label[\"label\"] == 1]"
      ],
      "metadata": {
        "id": "UKEuroQNR3oX",
        "execution": {
          "iopub.status.busy": "2021-06-25T04:00:35.866364Z",
          "iopub.execute_input": "2021-06-25T04:00:35.867172Z",
          "iopub.status.idle": "2021-06-25T04:00:35.875645Z",
          "shell.execute_reply.started": "2021-06-25T04:00:35.867107Z",
          "shell.execute_reply": "2021-06-25T04:00:35.873893Z"
        },
        "trusted": true
      },
      "execution_count": null,
      "outputs": []
    },
    {
      "cell_type": "code",
      "source": [
        "train_s1[\"Ulasan_clean\"] = train_s1[\"Ulasan_clean\"].fillna(\"tidak ada komentar\")"
      ],
      "metadata": {
        "id": "TMcPDBvsR6wg",
        "execution": {
          "iopub.status.busy": "2021-06-25T04:00:39.207427Z",
          "iopub.execute_input": "2021-06-25T04:00:39.208143Z",
          "iopub.status.idle": "2021-06-25T04:00:39.217129Z",
          "shell.execute_reply.started": "2021-06-25T04:00:39.208099Z",
          "shell.execute_reply": "2021-06-25T04:00:39.215341Z"
        },
        "trusted": true
      },
      "execution_count": null,
      "outputs": []
    },
    {
      "cell_type": "code",
      "source": [
        "train_s1"
      ],
      "metadata": {
        "id": "fAUJMYU6R9hc",
        "execution": {
          "iopub.status.busy": "2021-06-25T04:00:40.771004Z",
          "iopub.execute_input": "2021-06-25T04:00:40.771442Z",
          "iopub.status.idle": "2021-06-25T04:00:40.79262Z",
          "shell.execute_reply.started": "2021-06-25T04:00:40.771408Z",
          "shell.execute_reply": "2021-06-25T04:00:40.791023Z"
        },
        "trusted": true
      },
      "execution_count": null,
      "outputs": []
    },
    {
      "cell_type": "code",
      "source": [
        "all_text_s1 = ' '.join(word for word in train_s1[\"Ulasan_clean\"])\n",
        "wordcloud = WordCloud(colormap='Blues', width=1000, height=1000, mode='RGBA', background_color='white').generate(all_text_s1)\n",
        "plt.figure(figsize=(20,10))\n",
        "plt.imshow(wordcloud, interpolation='bilinear')\n",
        "plt.axis(\"off\")\n",
        "plt.title(\"Ulasan Positif\")\n",
        "plt.margins(x=0, y=0)\n",
        "plt.show()"
      ],
      "metadata": {
        "id": "GQsa6RWeMAfS",
        "execution": {
          "iopub.status.busy": "2021-06-25T04:00:43.23205Z",
          "iopub.execute_input": "2021-06-25T04:00:43.234552Z",
          "iopub.status.idle": "2021-06-25T04:00:45.856768Z",
          "shell.execute_reply.started": "2021-06-25T04:00:43.234494Z",
          "shell.execute_reply": "2021-06-25T04:00:45.85534Z"
        },
        "trusted": true
      },
      "execution_count": null,
      "outputs": []
    },
    {
      "cell_type": "markdown",
      "source": [
        "Dari visualisasi diatas merupakan wordcloud kata yang paling banyak muncul pada ulasan yang memiliki label sentimen positif. Kata yang paling sering muncul dan mengarah ke ulasan positif membahas seputar : barang, cepat, bagus, masker, aman, kualitas, sesuai, rapi, respon, aman, recommended, dan sebagainya. Sehingga dari kata-kata ini bisa menjadi masukan untuk penjual dan marketplace Tokopedia untuk menjaga kualitas atau meningkatkan kembali kualitas barang (produk masker kesehatan), kualitas yang sesuai dan aman, serta respon penjual paling banyak disebutkan pelanggan dalam hasil Analisa ulasan sentimen yang positif."
      ],
      "metadata": {
        "id": "ZmCZGGFaKPN-"
      }
    },
    {
      "cell_type": "markdown",
      "source": [
        "# Menyiapkan Data Train dan Test"
      ],
      "metadata": {
        "id": "mbkSaxDeSP9r"
      }
    },
    {
      "cell_type": "markdown",
      "source": [
        "Pada proses ini kami menggunakan library sklearn.model_selection dengan modul train_test _split untuk membagi data latih (X_train dan y_train) dan data uji (X_test dan y_test) dengan persentasi data latih 70% dan data uji 30% serta memilih label data yaitu yang merupakan variable independen dari data kami yaitu kolom label untuk dijadikan parameter klasifikasi prediksi."
      ],
      "metadata": {
        "id": "sUFucLuSKPOD"
      }
    },
    {
      "cell_type": "code",
      "source": [
        "data_label['Ulasan_clean'] = data_label['Ulasan_clean'].fillna(\"tidak ada komentar\")"
      ],
      "metadata": {
        "id": "S4poQRsIVFU_",
        "execution": {
          "iopub.status.busy": "2021-06-25T04:00:45.859188Z",
          "iopub.execute_input": "2021-06-25T04:00:45.859613Z",
          "iopub.status.idle": "2021-06-25T04:00:45.868055Z",
          "shell.execute_reply.started": "2021-06-25T04:00:45.859573Z",
          "shell.execute_reply": "2021-06-25T04:00:45.866664Z"
        },
        "trusted": true
      },
      "execution_count": null,
      "outputs": []
    },
    {
      "cell_type": "code",
      "source": [
        "from sklearn.model_selection import train_test_split\n",
        "\n",
        "X_train, X_test, y_train, y_test = train_test_split(data_label['Ulasan_clean'], data_label['label'],\n",
        "                                                    test_size=0.1, stratify=data_label['label'], random_state=30)"
      ],
      "metadata": {
        "id": "6jk0v56FSSN1",
        "execution": {
          "iopub.status.busy": "2021-06-25T04:00:46.667231Z",
          "iopub.execute_input": "2021-06-25T04:00:46.667639Z",
          "iopub.status.idle": "2021-06-25T04:00:46.745401Z",
          "shell.execute_reply.started": "2021-06-25T04:00:46.667605Z",
          "shell.execute_reply": "2021-06-25T04:00:46.744283Z"
        },
        "trusted": true
      },
      "execution_count": null,
      "outputs": []
    },
    {
      "cell_type": "markdown",
      "source": [
        "# TF-IDF"
      ],
      "metadata": {
        "id": "OOmOKDwNSW6y"
      }
    },
    {
      "cell_type": "markdown",
      "source": [
        "Pada proses ini kami menggunakan pembobotan TF-IDF(term frequency–inverse document) untuk menghitung manual dengan menggunakan python pembobotan kata dalam dokumen data ulasan."
      ],
      "metadata": {
        "id": "CwbGtlELKPOE"
      }
    },
    {
      "cell_type": "code",
      "source": [
        "import numpy as np"
      ],
      "metadata": {
        "id": "0y5ajwmnUjgQ",
        "execution": {
          "iopub.status.busy": "2021-06-25T04:00:48.998818Z",
          "iopub.execute_input": "2021-06-25T04:00:48.999267Z",
          "iopub.status.idle": "2021-06-25T04:00:49.004302Z",
          "shell.execute_reply.started": "2021-06-25T04:00:48.999229Z",
          "shell.execute_reply": "2021-06-25T04:00:49.002881Z"
        },
        "trusted": true
      },
      "execution_count": null,
      "outputs": []
    },
    {
      "cell_type": "code",
      "source": [
        "from sklearn.feature_extraction.text import TfidfVectorizer\n",
        "vectorizer = TfidfVectorizer(decode_error='replace', encoding='utf-8')"
      ],
      "metadata": {
        "id": "zi5SeJN-SaRo",
        "execution": {
          "iopub.status.busy": "2021-06-25T04:00:50.886503Z",
          "iopub.execute_input": "2021-06-25T04:00:50.886944Z",
          "iopub.status.idle": "2021-06-25T04:00:50.893331Z",
          "shell.execute_reply.started": "2021-06-25T04:00:50.886904Z",
          "shell.execute_reply": "2021-06-25T04:00:50.891745Z"
        },
        "trusted": true
      },
      "execution_count": null,
      "outputs": []
    },
    {
      "cell_type": "code",
      "source": [
        "X_train = vectorizer.fit_transform(X_train)\n",
        "X_test = vectorizer.transform(X_test)\n",
        "\n",
        "print(X_train.shape)\n",
        "print(X_test.shape)"
      ],
      "metadata": {
        "id": "kodlAhE_SdNH",
        "execution": {
          "iopub.status.busy": "2021-06-25T04:00:52.916797Z",
          "iopub.execute_input": "2021-06-25T04:00:52.917176Z",
          "iopub.status.idle": "2021-06-25T04:00:52.934497Z",
          "shell.execute_reply.started": "2021-06-25T04:00:52.917145Z",
          "shell.execute_reply": "2021-06-25T04:00:52.93322Z"
        },
        "trusted": true
      },
      "execution_count": null,
      "outputs": []
    },
    {
      "cell_type": "code",
      "source": [
        "X_train = X_train.toarray()"
      ],
      "metadata": {
        "execution": {
          "iopub.status.busy": "2021-06-25T04:01:57.636285Z",
          "iopub.execute_input": "2021-06-25T04:01:57.636661Z",
          "iopub.status.idle": "2021-06-25T04:01:57.64126Z",
          "shell.execute_reply.started": "2021-06-25T04:01:57.636631Z",
          "shell.execute_reply": "2021-06-25T04:01:57.640463Z"
        },
        "trusted": true,
        "id": "aNvynYBQKPOE"
      },
      "execution_count": null,
      "outputs": []
    },
    {
      "cell_type": "code",
      "source": [
        "X_test = X_test.toarray()"
      ],
      "metadata": {
        "execution": {
          "iopub.status.busy": "2021-06-25T04:02:03.55925Z",
          "iopub.execute_input": "2021-06-25T04:02:03.559852Z",
          "iopub.status.idle": "2021-06-25T04:02:03.563595Z",
          "shell.execute_reply.started": "2021-06-25T04:02:03.559786Z",
          "shell.execute_reply": "2021-06-25T04:02:03.562812Z"
        },
        "trusted": true,
        "id": "5nmOxakSKPOF"
      },
      "execution_count": null,
      "outputs": []
    },
    {
      "cell_type": "markdown",
      "source": [
        "# Machine Learning"
      ],
      "metadata": {
        "id": "nkqhE-hLKPOF"
      }
    },
    {
      "cell_type": "code",
      "source": [
        "from sklearn.naive_bayes import GaussianNB\n",
        "\n",
        "nb = GaussianNB()"
      ],
      "metadata": {
        "execution": {
          "iopub.status.busy": "2021-06-25T04:02:10.354904Z",
          "iopub.execute_input": "2021-06-25T04:02:10.355546Z",
          "iopub.status.idle": "2021-06-25T04:02:10.364681Z",
          "shell.execute_reply.started": "2021-06-25T04:02:10.355498Z",
          "shell.execute_reply": "2021-06-25T04:02:10.363283Z"
        },
        "trusted": true,
        "id": "BNw-eGeQKPOF"
      },
      "execution_count": null,
      "outputs": []
    },
    {
      "cell_type": "code",
      "source": [
        "from sklearn.model_selection import RepeatedStratifiedKFold\n",
        "from sklearn.model_selection import GridSearchCV\n",
        "from sklearn.model_selection import StratifiedKFold\n",
        "\n",
        "#deklarasi metode cross validation\n",
        "cv_method = RepeatedStratifiedKFold(n_splits=5,  n_repeats=3, random_state=999)\n",
        "#tuning hyperparameter menggunakan gridsearch\n",
        "\n",
        "params_NB = {'var_smoothing': np.logspace(0,-9, num=100)}\n",
        "gscv_nb = GridSearchCV(estimator=nb,\n",
        "                 param_grid=params_NB,\n",
        "                 cv=cv_method,   # use any cross validation technique\n",
        "                 verbose=1,\n",
        "                 scoring='accuracy')\n",
        "\n",
        "#Fitting ke Model\n",
        "gscv_nb.fit(X_train,y_train)\n",
        "#mendapatkan hyperparameters terbaik\n",
        "gscv_nb.best_params_"
      ],
      "metadata": {
        "execution": {
          "iopub.status.busy": "2021-06-25T04:02:18.523368Z",
          "iopub.execute_input": "2021-06-25T04:02:18.524054Z",
          "iopub.status.idle": "2021-06-25T04:02:23.383707Z",
          "shell.execute_reply.started": "2021-06-25T04:02:18.524001Z",
          "shell.execute_reply": "2021-06-25T04:02:23.382446Z"
        },
        "trusted": true,
        "id": "LR0PVWvvKPOF"
      },
      "execution_count": null,
      "outputs": []
    },
    {
      "cell_type": "code",
      "source": [
        "nb = GaussianNB(var_smoothing=1.0)"
      ],
      "metadata": {
        "execution": {
          "iopub.status.busy": "2021-06-25T04:02:26.962526Z",
          "iopub.execute_input": "2021-06-25T04:02:26.962903Z",
          "iopub.status.idle": "2021-06-25T04:02:26.966807Z",
          "shell.execute_reply.started": "2021-06-25T04:02:26.962871Z",
          "shell.execute_reply": "2021-06-25T04:02:26.966026Z"
        },
        "trusted": true,
        "id": "NJvkcU6kKPOF"
      },
      "execution_count": null,
      "outputs": []
    },
    {
      "cell_type": "code",
      "source": [
        "nb.fit(X_train, y_train)"
      ],
      "metadata": {
        "execution": {
          "iopub.status.busy": "2021-06-25T04:02:34.033448Z",
          "iopub.execute_input": "2021-06-25T04:02:34.033994Z",
          "iopub.status.idle": "2021-06-25T04:02:34.045286Z",
          "shell.execute_reply.started": "2021-06-25T04:02:34.033953Z",
          "shell.execute_reply": "2021-06-25T04:02:34.043913Z"
        },
        "trusted": true,
        "id": "08UGi5CLKPOF"
      },
      "execution_count": null,
      "outputs": []
    },
    {
      "cell_type": "code",
      "source": [
        "y_pred_nb = nb.predict(X_test)"
      ],
      "metadata": {
        "execution": {
          "iopub.status.busy": "2021-06-25T04:02:41.2535Z",
          "iopub.execute_input": "2021-06-25T04:02:41.253884Z",
          "iopub.status.idle": "2021-06-25T04:02:41.260116Z",
          "shell.execute_reply.started": "2021-06-25T04:02:41.253853Z",
          "shell.execute_reply": "2021-06-25T04:02:41.258875Z"
        },
        "trusted": true,
        "id": "i9dx8GDYKPOG"
      },
      "execution_count": null,
      "outputs": []
    },
    {
      "cell_type": "code",
      "source": [
        "from sklearn.metrics import confusion_matrix\n",
        "from sklearn.metrics import classification_report"
      ],
      "metadata": {
        "execution": {
          "iopub.status.busy": "2021-06-25T04:02:47.190821Z",
          "iopub.execute_input": "2021-06-25T04:02:47.191407Z",
          "iopub.status.idle": "2021-06-25T04:02:47.195902Z",
          "shell.execute_reply.started": "2021-06-25T04:02:47.19137Z",
          "shell.execute_reply": "2021-06-25T04:02:47.19453Z"
        },
        "trusted": true,
        "id": "mfa_-MtxKPOG"
      },
      "execution_count": null,
      "outputs": []
    },
    {
      "cell_type": "code",
      "source": [
        "print('--------------------- confusion matrix  ----------------------------')\n",
        "print(confusion_matrix(y_test, y_pred_nb))\n",
        "print('--------------------- classification report  ----------------------------')\n",
        "print(classification_report(y_test, y_pred_nb))"
      ],
      "metadata": {
        "execution": {
          "iopub.status.busy": "2021-06-25T04:02:53.442662Z",
          "iopub.execute_input": "2021-06-25T04:02:53.443338Z",
          "iopub.status.idle": "2021-06-25T04:02:53.455828Z",
          "shell.execute_reply.started": "2021-06-25T04:02:53.443294Z",
          "shell.execute_reply": "2021-06-25T04:02:53.454653Z"
        },
        "trusted": true,
        "id": "_DVSvy2HKPOG"
      },
      "execution_count": null,
      "outputs": []
    },
    {
      "cell_type": "markdown",
      "source": [
        "Setelah dilakukan pembagian data latih dan data uji serta pembobotan tf-idf selanjutnya dapat dilakukan proses klasifikasi prediksi menggunakan model algoritma Naïve Bayes seperti proses yang ditunjukkan pada gambar 4. Didapatkan model algoritma Naïve Bayes dapat memberikan akurasi yang cukup baik sampari 88%."
      ],
      "metadata": {
        "id": "Pm4f0YgzKPOG"
      }
    },
    {
      "cell_type": "markdown",
      "source": [
        "> Dari hasil penelitian menggunakan Metode Algoritma Naïve Bayes untuk mengetahui sentimen ulasan pengguna dengan klasifikasi 2 kelas positif dan negative dengan pendekatan NLP menghasilkan nilai akurasi sebesar 88%. Selain itu, didapatkan bahwa Analisa Sentimen pada ulasan marketplace Tokopedia pada produk masker kesehatan menunjukan lebih banyak pada ulasan yang positif. Ini berarti pelayanan dan produk masker Kesehatan yang disediakan di marketplace Tokopedia sudah cukup baik.\n",
        "\n",
        "\n",
        "> Dari hasil Analisis diatas dapat disimpulkan hasil scraping yang kami dapat dari produk pencarian masker kesehatan pada Tokopedia menampilkan data yang menunjukan ulasan positif lebih dominan daripada hasil ulasan negatif dan untuk ulasan negatif kata yang paling sering muncul adalah seputar kualitas produk yang tipis,mudah putus, sobek atau bolong, kualitas karetnya dan  pada pengemasan yaitu kotak/dus penyok dan untuk analisa positif kata yang paling sering muncul adalah seputar kualitas produk yang sesuai dan rapi, pengiriman yang aman dan cepat dan respon penjual."
      ],
      "metadata": {
        "id": "XyGqxw6hKPOG"
      }
    }
  ]
}